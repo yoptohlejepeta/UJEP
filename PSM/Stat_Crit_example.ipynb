{
  "cells": [
    {
      "cell_type": "code",
      "execution_count": 1,
      "metadata": {
        "id": "7xCsY9bls89V"
      },
      "outputs": [],
      "source": [
        "import numpy as np\n",
        "from scipy import stats"
      ]
    },
    {
      "cell_type": "code",
      "execution_count": 2,
      "metadata": {
        "id": "4oUzpnRQtHXs"
      },
      "outputs": [],
      "source": [
        "data = np.random.normal(loc=0, scale=1, size=100)"
      ]
    },
    {
      "cell_type": "code",
      "execution_count": 4,
      "metadata": {
        "id": "Oi99NAWit7GN"
      },
      "outputs": [
        {
          "name": "stderr",
          "output_type": "stream",
          "text": [
            "/tmp/ipykernel_41377/2174721.py:2: UserWarning: \n",
            "\n",
            "`distplot` is a deprecated function and will be removed in seaborn v0.14.0.\n",
            "\n",
            "Please adapt your code to use either `displot` (a figure-level function with\n",
            "similar flexibility) or `histplot` (an axes-level function for histograms).\n",
            "\n",
            "For a guide to updating your code to use the new functions, please see\n",
            "https://gist.github.com/mwaskom/de44147ed2974457ad6372750bbe5751\n",
            "\n",
            "  sns.distplot(data)\n"
          ]
        },
        {
          "data": {
            "text/plain": [
              "<Axes: ylabel='Density'>"
            ]
          },
          "execution_count": 4,
          "metadata": {},
          "output_type": "execute_result"
        },
        {
          "data": {
            "image/png": "[encoded data removed]",
            "text/plain": [
              "<Figure size 640x480 with 1 Axes>"
            ]
          },
          "metadata": {},
          "output_type": "display_data"
        }
      ],
      "source": [
        "import seaborn as sns\n",
        "sns.distplot(data)\n"
      ]
    },
    {
      "cell_type": "code",
      "execution_count": 5,
      "metadata": {
        "id": "OINTFQbQtLYl"
      },
      "outputs": [
        {
          "name": "stdout",
          "output_type": "stream",
          "text": [
            "Statistic = 0.990, p-value = 0.643\n"
          ]
        }
      ],
      "source": [
        "stat, p = stats.shapiro(data)\n",
        "print('Statistic = %.3f, p-value = %.3f' % (stat, p))"
      ]
    },
    {
      "cell_type": "code",
      "execution_count": 6,
      "metadata": {
        "id": "TsH_PCrkuSOV"
      },
      "outputs": [
        {
          "name": "stdout",
          "output_type": "stream",
          "text": [
            "Statistic = 0.215\n",
            "Result statistic 0.215 < 0.555: data are normal (fail to reject H0)\n",
            "Result statistic 0.215 < 0.632: data are normal (fail to reject H0)\n",
            "Result statistic 0.215 < 0.759: data are normal (fail to reject H0)\n",
            "Result statistic 0.215 < 0.885: data are normal (fail to reject H0)\n",
            "Result statistic 0.215 < 1.053: data are normal (fail to reject H0)\n"
          ]
        }
      ],
      "source": [
        "result = stats.anderson(data)\n",
        "print('Statistic = %.3f' % result.statistic)\n",
        "for i in range(len(result.critical_values)):\n",
        "    sl, cv = result.significance_level[i], result.critical_values[i]\n",
        "    if result.statistic < cv:\n",
        "        print('Result statistic %.3f < %.3f: data are normal (fail to reject H0)' % (result.statistic, cv))\n",
        "    else:\n",
        "        print('Result statistic %.3f > %.3f: data are normal (fail to reject H0)' % (result.statistic, cv))"
      ]
    },
    {
      "cell_type": "code",
      "execution_count": 9,
      "metadata": {
        "id": "SbRjF5TI2eqm"
      },
      "outputs": [
        {
          "ename": "ModuleNotFoundError",
          "evalue": "No module named 'sklearn'",
          "output_type": "error",
          "traceback": [
            "\u001b[0;31m---------------------------------------------------------------------------\u001b[0m",
            "\u001b[0;31mModuleNotFoundError\u001b[0m                       Traceback (most recent call last)",
            "Cell \u001b[0;32mIn[9], line 3\u001b[0m\n\u001b[1;32m      1\u001b[0m \u001b[39m# Application for Fisher's iris dataset\u001b[39;00m\n\u001b[1;32m      2\u001b[0m \u001b[39mfrom\u001b[39;00m \u001b[39mscipy\u001b[39;00m\u001b[39m.\u001b[39;00m\u001b[39mstats\u001b[39;00m \u001b[39mimport\u001b[39;00m shapiro\n\u001b[0;32m----> 3\u001b[0m \u001b[39mfrom\u001b[39;00m \u001b[39msklearn\u001b[39;00m\u001b[39m.\u001b[39;00m\u001b[39mdatasets\u001b[39;00m \u001b[39mimport\u001b[39;00m load_iris\n",
            "\u001b[0;31mModuleNotFoundError\u001b[0m: No module named 'sklearn'"
          ]
        }
      ],
      "source": [
        "# Application for Fisher's iris dataset\n",
        "from scipy.stats import shapiro\n",
        "from sklearn.datasets import load_iris"
      ]
    },
    {
      "cell_type": "code",
      "execution_count": 8,
      "metadata": {
        "id": "uHUv4nkYJ7B-"
      },
      "outputs": [
        {
          "ename": "NameError",
          "evalue": "name 'load_iris' is not defined",
          "output_type": "error",
          "traceback": [
            "\u001b[0;31m---------------------------------------------------------------------------\u001b[0m",
            "\u001b[0;31mNameError\u001b[0m                                 Traceback (most recent call last)",
            "Cell \u001b[0;32mIn[8], line 1\u001b[0m\n\u001b[0;32m----> 1\u001b[0m iris \u001b[39m=\u001b[39m load_iris()\n\u001b[1;32m      2\u001b[0m data \u001b[39m=\u001b[39m iris\u001b[39m.\u001b[39mdata\n",
            "\u001b[0;31mNameError\u001b[0m: name 'load_iris' is not defined"
          ]
        }
      ],
      "source": [
        "iris = load_iris()\n",
        "data = iris.data"
      ]
    },
    {
      "cell_type": "code",
      "execution_count": 8,
      "metadata": {
        "id": "UdUTo1CaJ_Al"
      },
      "outputs": [],
      "source": [
        "sepal_length = data[:,0]\n",
        "sepal_widht = data[:,1]\n",
        "petal_length = data[:,2]\n",
        "petal_width = data[:,3]"
      ]
    },
    {
      "cell_type": "code",
      "execution_count": null,
      "metadata": {
        "id": "X1udiEtUKGGN"
      },
      "outputs": [],
      "source": [
        "sns.distplot(sepal_length)"
      ]
    },
    {
      "cell_type": "code",
      "execution_count": null,
      "metadata": {
        "id": "iIxWZCSZKq2O"
      },
      "outputs": [],
      "source": [
        "sns.distplot(sepal_widht)"
      ]
    },
    {
      "cell_type": "code",
      "execution_count": null,
      "metadata": {
        "id": "GRBrASMYKxxl"
      },
      "outputs": [],
      "source": [
        "sns.distplot(petal_length)"
      ]
    },
    {
      "cell_type": "code",
      "execution_count": null,
      "metadata": {
        "id": "zaGUUFv9KyBc"
      },
      "outputs": [],
      "source": [
        "sns.distplot(petal_width)"
      ]
    },
    {
      "cell_type": "code",
      "execution_count": 17,
      "metadata": {
        "colab": {
          "base_uri": "https://localhost:8080/"
        },
        "id": "VBE-qShVLEJm",
        "outputId": "48f78b43-2d74-4dfe-9a67-3b3af991ee5a"
      },
      "outputs": [
        {
          "name": "stdout",
          "output_type": "stream",
          "text": [
            "Statistic1 = 0.976, p-value = 0.010\n",
            "Statistic2 = 0.985, p-value = 0.101\n",
            "Statistic3 = 0.876, p-value = 0.000\n",
            "Statistic4 = 0.902, p-value = 0.000\n"
          ]
        }
      ],
      "source": [
        "stat1, p1 = shapiro(sepal_length)\n",
        "print('Statistic1 = %.3f, p-value = %.3f' % (stat1, p1))\n",
        "stat2, p2 = shapiro(sepal_widht)\n",
        "print('Statistic2 = %.3f, p-value = %.3f' % (stat2, p2))\n",
        "stat3, p3 = shapiro(petal_length)\n",
        "print('Statistic3 = %.3f, p-value = %.3f' % (stat3, p3))\n",
        "stat4, p4 = shapiro(petal_width)\n",
        "print('Statistic4 = %.3f, p-value = %.3f' % (stat4, p4))"
      ]
    },
    {
      "cell_type": "code",
      "execution_count": 18,
      "metadata": {
        "id": "yhA77JsvP0Ce"
      },
      "outputs": [],
      "source": [
        "################################################################################\n",
        "# Použití bayesovckých kritérií pro ověření hypotézy o normalitě rozdělení dat\n",
        "#1.  Importování potřebných knihoven:\n",
        "import numpy as np\n",
        "import scipy.stats as stats\n",
        "import pandas as pd\n",
        "import matplotlib.pyplot as plt"
      ]
    },
    {
      "cell_type": "code",
      "execution_count": 19,
      "metadata": {
        "id": "hwxLQfLtQlOk"
      },
      "outputs": [],
      "source": [
        "data = np.random.normal(loc=0, scale=1, size=100)"
      ]
    },
    {
      "cell_type": "code",
      "execution_count": 20,
      "metadata": {
        "id": "ThUlRsJKQo4N"
      },
      "outputs": [],
      "source": [
        "# Bayesovský informační kritérium (BIC)\n",
        "n = len(data)\n",
        "k = 2  # Počet parametrů rozdělení - střední hodnota a směrodatná odchylka\n",
        "log_likelihood = np.sum(stats.norm.logpdf(data, np.mean(data), np.std(data)))\n",
        "bic = -2 * log_likelihood + k * np.log(n)\n"
      ]
    },
    {
      "cell_type": "code",
      "execution_count": null,
      "metadata": {
        "id": "zyxTU4c4Q3vM"
      },
      "outputs": [],
      "source": [
        "print('BIC = %.3f' % bic)\n"
      ]
    },
    {
      "cell_type": "code",
      "execution_count": 22,
      "metadata": {
        "id": "j1l9KAHRTRn1"
      },
      "outputs": [],
      "source": [
        "# Comparing two distributions\n",
        "# generate two random samples from normal distributions\n",
        "np.random.seed(42)\n",
        "sample1 = np.random.normal(0, 1, size=100)\n",
        "sample2 = np.random.normal(1, 1, size=100)"
      ]
    },
    {
      "cell_type": "code",
      "execution_count": null,
      "metadata": {
        "id": "lTeZr1hZVp-G"
      },
      "outputs": [],
      "source": [
        "# plot histograms of the two samples\n",
        "plt.hist(sample1, alpha=0.5, label='Sample 1')\n",
        "plt.hist(sample2, alpha=0.5, label='Sample 2')\n",
        "plt.legend()\n",
        "plt.show()"
      ]
    },
    {
      "cell_type": "code",
      "execution_count": 24,
      "metadata": {
        "id": "MwVU0aXLY2tk"
      },
      "outputs": [],
      "source": [
        "# Bayesovský informační kritérium (BIC)\n",
        "n1 = len(sample1)\n",
        "k = 2  # Počet parametrů rozdělení - střední hodnota a směrodatná odchylka\n",
        "log_likelihood1 = np.sum(stats.norm.logpdf(sample1, np.mean(sample1), np.std(sample1)))\n",
        "bic1 = -2 * log_likelihood1 + k * np.log(n1)\n",
        "\n",
        "n2 = len(sample2)\n",
        "k = 2  # Počet parametrů rozdělení - střední hodnota a směrodatná odchylka\n",
        "log_likelihood2 = np.sum(stats.norm.logpdf(sample2, np.mean(sample2), np.std(sample2)))\n",
        "bic2 = -2 * log_likelihood2 + k * np.log(n2)\n"
      ]
    },
    {
      "cell_type": "code",
      "execution_count": null,
      "metadata": {
        "id": "Kn1FpqzzQHL0"
      },
      "outputs": [],
      "source": [
        "print('BIC1 = %.3f' % bic1)\n",
        "print('BIC2 = %.3f' % bic2)\n"
      ]
    },
    {
      "cell_type": "code",
      "execution_count": null,
      "metadata": {
        "id": "niJdL5oQa4XW"
      },
      "outputs": [],
      "source": []
    },
    {
      "cell_type": "code",
      "execution_count": null,
      "metadata": {
        "id": "wDH0n65tbGfd"
      },
      "outputs": [],
      "source": []
    }
  ],
  "metadata": {
    "colab": {
      "provenance": []
    },
    "kernelspec": {
      "display_name": "Python 3",
      "name": "python3"
    },
    "language_info": {
      "codemirror_mode": {
        "name": "ipython",
        "version": 3
      },
      "file_extension": ".py",
      "mimetype": "text/x-python",
      "name": "python",
      "nbconvert_exporter": "python",
      "pygments_lexer": "ipython3",
      "version": "3.10.6"
    }
  },
  "nbformat": 4,
  "nbformat_minor": 0
}
