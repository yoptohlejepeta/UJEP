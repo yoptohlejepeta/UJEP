{
 "cells": [
  {
   "cell_type": "code",
   "execution_count": null,
   "metadata": {},
   "outputs": [],
   "source": [
    "import numpy as np\n",
    "import matplotlib.pyplot as plt"
   ]
  },
  {
   "cell_type": "code",
   "execution_count": null,
   "metadata": {},
   "outputs": [],
   "source": [
    "def integral_obdelnik(a, b, n):\n",
    "    h = (b - a) / n\n",
    "    obdelnik = [(f(a + i * h + (h / 2))) * h for i in range(n)]\n",
    "    sum = np.sum(obdelnik)\n",
    "    return sum"
   ]
  },
  {
   "cell_type": "code",
   "execution_count": null,
   "metadata": {},
   "outputs": [],
   "source": [
    "def integral_licho(a, b, n):\n",
    "    h = (b - a) / n\n",
    "    licho = [((f(a + i * h) + f(a + i * h + h)) / 2) * h for i in range(n)]\n",
    "    sum = np.sum(licho)\n",
    "    return sum"
   ]
  },
  {
   "cell_type": "code",
   "execution_count": null,
   "metadata": {},
   "outputs": [],
   "source": [
    "def integral_simpson(a, b, n):\n",
    "    h = (b - a) / n\n",
    "    sum = 0\n",
    "    simps = [(h/6) * (f(a) + 4 * f((a+b)/2) + f(b)) for i in range(n)]\n",
    "    sum = np.sum(simps)\n",
    "    return sum"
   ]
  },
  {
   "cell_type": "code",
   "execution_count": null,
   "metadata": {},
   "outputs": [],
   "source": [
    "def f(x):\n",
    "    return np.sin(x) + 2\n",
    "\n",
    "k = np.array([integral_obdelnik(0,2*np.pi,i) for i in range(50,1000)])\n",
    "l = np.array([integral_licho(0,2*np.pi,i) for i in range(50,1000)])\n",
    "s = np.array([integral_simpson(0,2*np.pi,i) for i in range(50,1000)])\n",
    "x = [i for i in range(50,1000)]"
   ]
  },
  {
   "cell_type": "code",
   "execution_count": null,
   "metadata": {},
   "outputs": [],
   "source": [
    "plt.plot(x,np.abs((2 - np.cos(x)) - k), label=\"ctverce\")\n",
    "plt.plot(x,np.abs((2 - np.cos(x)) - l), label=\"lichobezniky\")\n",
    "plt.plot(x,np.abs((2 - np.cos(x)) - s), label=\"simpson\")\n",
    "plt.legend()"
   ]
  },
  {
   "cell_type": "code",
   "execution_count": null,
   "metadata": {},
   "outputs": [],
   "source": [
    "x = np.linspace(0, 2 * np.pi)\n",
    "y = f(x)\n",
    "\n",
    "plt.plot(x,y)"
   ]
  }
 ],
 "metadata": {
  "kernelspec": {
   "display_name": "venv",
   "language": "python",
   "name": "python3"
  },
  "language_info": {
   "codemirror_mode": {
    "name": "ipython",
    "version": 3
   },
   "file_extension": ".py",
   "mimetype": "text/x-python",
   "name": "python",
   "nbconvert_exporter": "python",
   "pygments_lexer": "ipython3",
   "version": "3.10.6"
  },
  "orig_nbformat": 4
 },
 "nbformat": 4,
 "nbformat_minor": 2
}
