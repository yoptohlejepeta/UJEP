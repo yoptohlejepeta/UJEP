{
 "cells": [
  {
   "cell_type": "code",
   "execution_count": 1,
   "metadata": {},
   "outputs": [],
   "source": [
    "import numpy as np"
   ]
  },
  {
   "cell_type": "code",
   "execution_count": 160,
   "metadata": {},
   "outputs": [
    {
     "data": {
      "text/plain": [
       "array([ 7.11111111, -3.22222222])"
      ]
     },
     "execution_count": 160,
     "metadata": {},
     "output_type": "execute_result"
    }
   ],
   "source": [
    "A = np.array([[2, 1],[5, 7]])\n",
    "b = np.array([11,13])\n",
    "\n",
    "np.linalg.solve(A,b)"
   ]
  },
  {
   "cell_type": "code",
   "execution_count": 161,
   "metadata": {},
   "outputs": [],
   "source": [
    "L = np.tril(A, -1)\n",
    "D = np.diag(np.diag(A))\n",
    "U = np.triu(A, 1)"
   ]
  },
  {
   "cell_type": "code",
   "execution_count": 163,
   "metadata": {},
   "outputs": [
    {
     "name": "stdout",
     "output_type": "stream",
     "text": [
      "0 [5.5        1.85714286]\n",
      "1 [ 4.57142857 -2.07142857]\n",
      "2 [ 6.53571429 -1.40816327]\n",
      "3 [ 6.20408163 -2.81122449]\n",
      "4 [ 6.90561224 -2.57434402]\n",
      "5 [ 6.78717201 -3.07543732]\n",
      "6 [ 7.03771866 -2.99083715]\n",
      "7 [ 6.99541858 -3.16979904]\n",
      "8 [ 7.08489952 -3.1395847 ]\n",
      "9 [ 7.06979235 -3.20349966]\n",
      "10 [ 7.10174983 -3.19270882]\n",
      "11 [ 7.09635441 -3.21553559]\n",
      "12 [ 7.1077678  -3.21168172]\n",
      "13 [ 7.10584086 -3.21983414]\n",
      "14 [ 7.10991707 -3.21845776]\n",
      "15 [ 7.10922888 -3.22136934]\n",
      "16 [ 7.11068467 -3.22087777]\n",
      "17 [ 7.11043889 -3.22191762]\n",
      "18 [ 7.11095881 -3.22174206]\n",
      "19 [ 7.11087103 -3.22211344]\n"
     ]
    }
   ],
   "source": [
    "# Jacobiova\n",
    "\n",
    "x = np.zeros(len(A))\n",
    "\n",
    "for i in range(20):\n",
    "    x = np.matmul(np.linalg.inv(D), (b - np.matmul(L+U, x) ))\n",
    "    print(i, x)"
   ]
  },
  {
   "cell_type": "code",
   "execution_count": 164,
   "metadata": {},
   "outputs": [
    {
     "name": "stdout",
     "output_type": "stream",
     "text": [
      "0 [ 5.5        -2.07142857]\n",
      "1 [ 6.53571429 -2.81122449]\n",
      "2 [ 6.90561224 -3.07543732]\n",
      "3 [ 7.03771866 -3.16979904]\n",
      "4 [ 7.08489952 -3.20349966]\n",
      "5 [ 7.10174983 -3.21553559]\n",
      "6 [ 7.1077678  -3.21983414]\n",
      "7 [ 7.10991707 -3.22136934]\n",
      "8 [ 7.11068467 -3.22191762]\n",
      "9 [ 7.11095881 -3.22211344]\n",
      "10 [ 7.11105672 -3.22218337]\n",
      "11 [ 7.11109168 -3.22220835]\n",
      "12 [ 7.11110417 -3.22221727]\n",
      "13 [ 7.11110863 -3.22222045]\n",
      "14 [ 7.11111023 -3.22222159]\n",
      "15 [ 7.1111108 -3.222222 ]\n",
      "16 [ 7.111111   -3.22222214]\n",
      "17 [ 7.11111107 -3.22222219]\n",
      "18 [ 7.1111111  -3.22222221]\n",
      "19 [ 7.11111111 -3.22222222]\n"
     ]
    }
   ],
   "source": [
    "# Gauss-Seidlerova\n",
    "\n",
    "x = np.zeros(len(A))\n",
    "\n",
    "for i in range(20):\n",
    "    x = np.matmul(np.linalg.inv(D+L), (b - np.matmul(U, x)))\n",
    "    print(i, x)"
   ]
  },
  {
   "cell_type": "code",
   "execution_count": 151,
   "metadata": {},
   "outputs": [],
   "source": [
    "A = np.array([[1,3,3], [4,3,6], [7,8,9]])\n",
    "b = np.array([8,6,8])\n",
    "\n",
    "L = np.tril(A, -1)\n",
    "D = np.diag(np.diag(A))\n",
    "U = np.triu(A, 1)\n"
   ]
  },
  {
   "cell_type": "code",
   "execution_count": 157,
   "metadata": {},
   "outputs": [
    {
     "name": "stdout",
     "output_type": "stream",
     "text": [
      "[-2.32673134e+51 -1.55115423e+51 -9.77829523e+50]\n"
     ]
    },
    {
     "data": {
      "text/plain": [
       "array([-3.8       ,  0.8       ,  3.13333333])"
      ]
     },
     "execution_count": 157,
     "metadata": {},
     "output_type": "execute_result"
    }
   ],
   "source": [
    "x = np.zeros(len(A))\n",
    "\n",
    "for i in range(100):\n",
    "    x = np.matmul(np.linalg.inv(D), (b - np.matmul(L + U, x) ))\n",
    "print(x)\n",
    "np.linalg.solve(A,b)"
   ]
  }
 ],
 "metadata": {
  "kernelspec": {
   "display_name": "venv",
   "language": "python",
   "name": "python3"
  },
  "language_info": {
   "codemirror_mode": {
    "name": "ipython",
    "version": 3
   },
   "file_extension": ".py",
   "mimetype": "text/x-python",
   "name": "python",
   "nbconvert_exporter": "python",
   "pygments_lexer": "ipython3",
   "version": "3.10.6"
  },
  "orig_nbformat": 4
 },
 "nbformat": 4,
 "nbformat_minor": 2
}
