{
 "cells": [
  {
   "attachments": {},
   "cell_type": "markdown",
   "metadata": {},
   "source": [
    "# 1. seminární práce (Petr Kotlan)"
   ]
  },
  {
   "attachments": {},
   "cell_type": "markdown",
   "metadata": {},
   "source": [
    "## Balíčky <a class=\"anchor\" id=\"balicky\"></a>"
   ]
  },
  {
   "cell_type": "code",
   "execution_count": null,
   "metadata": {},
   "outputs": [],
   "source": [
    "import numpy as np\n",
    "import plotly.express as px\n",
    "import scipy.integrate as integrate"
   ]
  },
  {
   "attachments": {},
   "cell_type": "markdown",
   "metadata": {},
   "source": [
    "## Průměrování matice"
   ]
  },
  {
   "cell_type": "code",
   "execution_count": null,
   "metadata": {},
   "outputs": [],
   "source": [
    "pole = np.array(np.random.choice([0, 255], (500, 500)))\n",
    "\n",
    "fig = px.imshow(pole, color_continuous_scale=\"gray\")\n",
    "fig.update_traces(zmin=0, zmax=255)\n",
    "fig.show()\n",
    "\n",
    "\n",
    "flattened_data = pole.flatten()\n",
    "fig = px.histogram(\n",
    "    flattened_data,\n",
    "    nbins=2,\n",
    "    color=flattened_data,\n",
    "    title=\"Histogram hodnot (Původní pole)\",\n",
    ").update_layout(yaxis_title=\"\", xaxis_title=\"Hodnota\")\n",
    "fig.update_layout(bargap=0.2, showlegend=False)\n",
    "\n",
    "\n",
    "fig.show()"
   ]
  },
  {
   "cell_type": "code",
   "execution_count": null,
   "metadata": {},
   "outputs": [],
   "source": [
    "for k in range(100):\n",
    "    row = np.random.choice([i for i in range(len(pole))])\n",
    "    column = np.random.choice([i for i in range(len(pole))])\n",
    "    pole[row, column] = np.mean(\n",
    "        [\n",
    "            pole[(row + 1) % len(pole), column],\n",
    "            pole[row - 1, column],\n",
    "            pole[row, (column + 1) % len(pole)],\n",
    "            pole[row, column - 1],\n",
    "        ]\n",
    "    )\n",
    "\n",
    "\n",
    "fig = px.imshow(pole, color_continuous_scale=\"gray\")\n",
    "fig.update_traces(zmin=0, zmax=255)\n",
    "fig.show()\n",
    "\n",
    "flattened_data = pole.flatten()\n",
    "fig = px.histogram(\n",
    "    flattened_data,\n",
    "    color=flattened_data,\n",
    "    title=\"Histogram hodnot (100 opakování)\",\n",
    ").update_layout(yaxis_title=\"\", xaxis_title=\"Hodnota\", showlegend=False)\n",
    "\n",
    "\n",
    "fig.show()"
   ]
  },
  {
   "cell_type": "code",
   "execution_count": null,
   "metadata": {},
   "outputs": [],
   "source": [
    "for k in range(10000):\n",
    "    row = np.random.choice([i for i in range(len(pole))])\n",
    "    column = np.random.choice([i for i in range(len(pole))])\n",
    "    pole[row, column] = np.mean(\n",
    "        [\n",
    "            pole[(row + 1) % len(pole), column],\n",
    "            pole[row - 1, column],\n",
    "            pole[row, (column + 1) % len(pole)],\n",
    "            pole[row, column - 1],\n",
    "        ]\n",
    "    )\n",
    "\n",
    "\n",
    "fig = px.imshow(pole, color_continuous_scale=\"gray\")\n",
    "fig.update_traces(zmin=0, zmax=255)\n",
    "fig.show()\n",
    "\n",
    "flattened_data = pole.flatten()\n",
    "fig = px.histogram(\n",
    "    flattened_data,\n",
    "    color=flattened_data,\n",
    "    title=\"Histogram hodnot (+10,000 opakování)\",\n",
    ").update_layout(yaxis_title=\"\", xaxis_title=\"Hodnota\", showlegend=False)\n",
    "\n",
    "\n",
    "fig.show()"
   ]
  },
  {
   "cell_type": "code",
   "execution_count": null,
   "metadata": {},
   "outputs": [],
   "source": [
    "for k in range(1000000):\n",
    "    row = np.random.choice([i for i in range(len(pole))])\n",
    "    column = np.random.choice([i for i in range(len(pole))])\n",
    "    pole[row, column] = np.mean(\n",
    "        [\n",
    "            pole[(row + 1) % len(pole), column],\n",
    "            pole[row - 1, column],\n",
    "            pole[row, (column + 1) % len(pole)],\n",
    "            pole[row, column - 1],\n",
    "        ]\n",
    "    )\n",
    "\n",
    "\n",
    "fig = px.imshow(pole, color_continuous_scale=\"gray\")\n",
    "fig.update_traces(zmin=0, zmax=255)\n",
    "fig.show()\n",
    "\n",
    "flattened_data = pole.flatten()\n",
    "fig = px.histogram(\n",
    "    flattened_data,\n",
    "    color=flattened_data,\n",
    "    title=\"Histogram hodnot (+1,000,000 opakování)\",\n",
    ").update_layout(yaxis_title=\"\", xaxis_title=\"Hodnota\", showlegend=False)\n",
    "\n",
    "\n",
    "fig.show()"
   ]
  },
  {
   "attachments": {},
   "cell_type": "markdown",
   "metadata": {},
   "source": [
    "## Laplaceův rozvoj"
   ]
  },
  {
   "cell_type": "code",
   "execution_count": null,
   "metadata": {},
   "outputs": [],
   "source": [
    "def gen_matrix(n):\n",
    "    \"\"\"Generování čtvercové matice\n",
    "\n",
    "    Args:\n",
    "        n: Počet řádků a sloupců\n",
    "    \"\"\"\n",
    "    matrix = np.array(np.random.randint(-6, 6, size=(n, n)))\n",
    "    return matrix"
   ]
  },
  {
   "cell_type": "code",
   "execution_count": null,
   "metadata": {},
   "outputs": [],
   "source": [
    "def laplace_determinant(matrix):\n",
    "    \"\"\"Výpočet determinantu matice Laplaceovým rozvojem\n",
    "\n",
    "    Args:\n",
    "        matrix: Vstupní matice\n",
    "    \"\"\"\n",
    "    det = 0\n",
    "    if matrix.shape == (2, 2):\n",
    "        return matrix[0, 0] * matrix[1, 1] - matrix[0, 1] * matrix[1, 0]\n",
    "    else:\n",
    "        for index in range(len(matrix)):\n",
    "            sub_matrix = np.delete(np.delete(matrix, index, axis=0), 0, axis=1)\n",
    "            det += (-1) ** (index) * matrix[index, 0] * laplace_determinant(sub_matrix)\n",
    "        return det\n",
    "\n",
    "\n",
    "matrix = gen_matrix(5)\n",
    "print(matrix)\n",
    "print(laplace_determinant(matrix))\n",
    "print(np.linalg.det(matrix))"
   ]
  },
  {
   "cell_type": "code",
   "execution_count": null,
   "metadata": {},
   "outputs": [],
   "source": [
    "import time\n",
    "\n",
    "cas = []\n",
    "\n",
    "for i in range(2, 11):\n",
    "    matrix = gen_matrix(i)\n",
    "    start = time.time()\n",
    "    det = laplace_determinant(matrix)\n",
    "    stop = time.time()\n",
    "    cas.append(stop - start)\n",
    "\n",
    "fig = px.line(\n",
    "    x=[i for i in range(2, 11)],\n",
    "    y=cas,\n",
    "    title=\"Časová náročnost funkce v závislosti na velikosti matice\",\n",
    "    labels={\"y\": \"Čas (s)\", \"x\": \"Velikost matice (nxn)\"},\n",
    ")\n",
    "fig.show()"
   ]
  },
  {
   "attachments": {},
   "cell_type": "markdown",
   "metadata": {},
   "source": [
    "## Numerická integrace"
   ]
  },
  {
   "attachments": {},
   "cell_type": "markdown",
   "metadata": {},
   "source": [
    "### Složené Simpsonovo pravidlo\n",
    "\n",
    "$\n",
    "\\int_a^b f(x) \\, dx \\approx \\frac{h}{3} \\left( f(a) + 4 \\sum_{i=1}^{n/2} f(x_{2i-1}) + 2 \\sum_{i=1}^{n/2-1} f(x_{2i}) + f(b) \\right)\n",
    "$\n"
   ]
  },
  {
   "cell_type": "code",
   "execution_count": null,
   "metadata": {},
   "outputs": [],
   "source": [
    "def integral_simpson(a: int, b: int, n: int):\n",
    "    \"\"\"Numericky odhadne integrál složeným Simpsonovým pravidlem.\n",
    "\n",
    "    Args:\n",
    "        a (int): Dolní hranice\n",
    "        b (int): Horní hranice\n",
    "        n (int): Počet intervalů\n",
    "    \"\"\"\n",
    "    x = np.linspace(4, 20, n + 1)\n",
    "    f = (np.sin(x) / x) + 3\n",
    "    h = (b - a) / n\n",
    "    simps = (h / 3) * (f[0] + 4 * sum(f[1:n:2]) + 2 * sum(f[: n - 1 : 2]) + f[n])\n",
    "    return np.sum(simps)\n",
    "\n",
    "\n",
    "print(integral_simpson(4, 20, 10000))"
   ]
  },
  {
   "attachments": {},
   "cell_type": "markdown",
   "metadata": {},
   "source": [
    "### Metoda Monte Carlo\n",
    "\n",
    "$ \\int_{a}^{b} f(x) \\, dx \\approx \\frac{(b - a)}{N} \\sum_{i=1}^{N} f(x_i) $ \n"
   ]
  },
  {
   "cell_type": "code",
   "execution_count": null,
   "metadata": {},
   "outputs": [],
   "source": [
    "def integral_monte_carlo(a: int, b: int, gamma_size: int):\n",
    "    \"\"\"Numericky odhadne integrál metodou Monte Carlo.\n",
    "\n",
    "    Args:\n",
    "        a (int): Dolní hranice\n",
    "        b (int): Horní hranice\n",
    "        gamma_size (int): Počet náhoně generrovaných čísel gamma\n",
    "    \"\"\"\n",
    "    gamma = np.random.random(size=gamma_size)\n",
    "    x = gamma * (b - a) + a\n",
    "    simps = ((b - a) / len(x)) * np.sum((np.sin(x) / x) + 3)\n",
    "    return np.sum(simps)\n",
    "\n",
    "\n",
    "print(integral_monte_carlo(4, 20, 1000))"
   ]
  },
  {
   "attachments": {},
   "cell_type": "markdown",
   "metadata": {},
   "source": [
    "### Porovnání metod\n",
    "\n",
    "Integrál spočítaný pomocí knihovny scipy"
   ]
  },
  {
   "cell_type": "code",
   "execution_count": null,
   "metadata": {},
   "outputs": [],
   "source": [
    "integral = (integrate.quad(lambda x: (np.sin(x) / x) + 3, 4, 20))[0]\n",
    "integral"
   ]
  },
  {
   "cell_type": "code",
   "execution_count": null,
   "metadata": {},
   "outputs": [],
   "source": [
    "chyba_simpson = [np.abs(integral - integral_simpson(4, 20, i)) for i in range(1, 2000)]\n",
    "x = [i for i in range(1999)]\n",
    "\n",
    "fig = px.line(\n",
    "    x=x,\n",
    "    y=chyba_simpson,\n",
    "    title=\"Chyba výpočtu integrálu složeným Simpsonovým pravidlem\",\n",
    "    labels={\"y\": \"Chyba\", \"x\": \"Počet intervalů\"},\n",
    ")\n",
    "fig.show()"
   ]
  },
  {
   "cell_type": "code",
   "execution_count": null,
   "metadata": {},
   "outputs": [],
   "source": [
    "integral = (integrate.quad(lambda x: (np.sin(x) / x) + 3, 4, 20))[0]\n",
    "\n",
    "chyba_simpson = [\n",
    "    np.abs(integral - integral_monte_carlo(4, 20, i)) for i in range(1, 2000)\n",
    "]\n",
    "x = [i for i in range(1999)]\n",
    "\n",
    "fig = px.line(\n",
    "    x=x,\n",
    "    y=chyba_simpson,\n",
    "    title=\"Chyba výpočtu integrálu metodou Monte Carlo\",\n",
    "    labels={\"y\": \"Chyba\", \"x\": \"Počet náhodných čísel\"},\n",
    ")\n",
    "fig.show()"
   ]
  }
 ],
 "metadata": {
  "kernelspec": {
   "display_name": "venv",
   "language": "python",
   "name": "python3"
  },
  "language_info": {
   "codemirror_mode": {
    "name": "ipython",
    "version": 3
   },
   "file_extension": ".py",
   "mimetype": "text/x-python",
   "name": "python",
   "nbconvert_exporter": "python",
   "pygments_lexer": "ipython3",
   "version": "3.10.6"
  },
  "orig_nbformat": 4
 },
 "nbformat": 4,
 "nbformat_minor": 2
}
