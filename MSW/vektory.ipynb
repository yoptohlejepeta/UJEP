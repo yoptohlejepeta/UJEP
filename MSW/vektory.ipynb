{
 "cells": [
  {
   "cell_type": "code",
   "execution_count": 1,
   "metadata": {},
   "outputs": [],
   "source": [
    "import numpy as np"
   ]
  },
  {
   "cell_type": "code",
   "execution_count": 47,
   "metadata": {},
   "outputs": [
    {
     "name": "stdout",
     "output_type": "stream",
     "text": [
      "11\n",
      "11\n"
     ]
    }
   ],
   "source": [
    "u = np.array([4, 2, 1])\n",
    "v = np.array([1, 2, 3])\n",
    "\n",
    "def sc_soucin(u, v):\n",
    "    soucin = [u[i]*v[i] for i in range(len(u))]\n",
    "    return sum(soucin)\n",
    "\n",
    "print(sc_soucin(u, v))\n",
    "print(np.dot(u, v))"
   ]
  },
  {
   "cell_type": "code",
   "execution_count": 27,
   "metadata": {},
   "outputs": [
    {
     "name": "stdout",
     "output_type": "stream",
     "text": [
      "0\n",
      "1\n",
      "2\n"
     ]
    },
    {
     "ename": "IndexError",
     "evalue": "list assignment index out of range",
     "output_type": "error",
     "traceback": [
      "\u001b[0;31m---------------------------------------------------------------------------\u001b[0m",
      "\u001b[0;31mIndexError\u001b[0m                                Traceback (most recent call last)",
      "Cell \u001b[0;32mIn[27], line 8\u001b[0m\n\u001b[1;32m      6\u001b[0m slozky \u001b[39m=\u001b[39m []\n\u001b[1;32m      7\u001b[0m \u001b[39mfor\u001b[39;00m i \u001b[39min\u001b[39;00m \u001b[39mrange\u001b[39m(\u001b[39mlen\u001b[39m(u)):\n\u001b[0;32m----> 8\u001b[0m     slozky[i] \u001b[39m=\u001b[39m (u[i\u001b[39m-\u001b[39m\u001b[39m1\u001b[39m]\u001b[39m*\u001b[39mv[i] \u001b[39m-\u001b[39m v[i\u001b[39m-\u001b[39m\u001b[39m1\u001b[39m]\u001b[39m*\u001b[39mu[i])\n\u001b[1;32m      9\u001b[0m     \u001b[39m# c = np.array([(u[1]*v[2] - v[1]*u[2]), (u[2]*v[0] - v[2]*u[0]), (u[0]*v[1] - v[0]*u[1])])\u001b[39;00m\n\u001b[1;32m     10\u001b[0m \n\u001b[1;32m     11\u001b[0m \n\u001b[1;32m     12\u001b[0m \u001b[39m# print(vc_soucin(u, v))\u001b[39;00m\n\u001b[1;32m     13\u001b[0m \u001b[39mprint\u001b[39m(np\u001b[39m.\u001b[39mcross(u, v))\n",
      "\u001b[0;31mIndexError\u001b[0m: list assignment index out of range"
     ]
    }
   ],
   "source": [
    "u = np.array([4, 2, 1])\n",
    "v = np.array([1, 2, 3])\n",
    "\n",
    "# for i in range(len(u)):\n",
    "#     print(i)\n",
    "# slozky = []\n",
    "# for i in range(len(u)):\n",
    "#     slozky[i] = (u[i-1]*v[i] - v[i-1]*u[i])\n",
    "    # c = np.array([(u[1]*v[2] - v[1]*u[2]), (u[2]*v[0] - v[2]*u[0]), (u[0]*v[1] - v[0]*u[1])])\n",
    "for i in u:\n",
    "    for j in\n",
    "\n",
    "\n",
    "# print(vc_soucin(u, v))\n",
    "print(np.cross(u, v))"
   ]
  },
  {
   "cell_type": "code",
   "execution_count": 48,
   "metadata": {},
   "outputs": [
    {
     "name": "stdout",
     "output_type": "stream",
     "text": [
      "[[ 4.  8. 12.]\n",
      " [ 2.  4.  6.]\n",
      " [ 1.  2.  3.]]\n",
      "[[ 4  8 12]\n",
      " [ 2  4  6]\n",
      " [ 1  2  3]]\n"
     ]
    }
   ],
   "source": [
    "u = np.array([4, 2, 1])\n",
    "v = np.array([1, 2, 3])\n",
    "\n",
    "def ten_souc(u, v):\n",
    "    mat = np.zeros((len(u),len(u)))\n",
    "    for i in range(len(u)):\n",
    "        for j in range(len(v)):\n",
    "            mat[i, j] = u[i] * v[j]\n",
    "    return mat\n",
    "\n",
    "print(ten_souc(u,v))\n",
    "print(np.tensordot(u, v, 0))"
   ]
  },
  {
   "cell_type": "code",
   "execution_count": 64,
   "metadata": {},
   "outputs": [
    {
     "name": "stdout",
     "output_type": "stream",
     "text": [
      "[9, 12, 15]\n",
      "[19, 26, 33]\n",
      "[29, 40, 51]\n"
     ]
    }
   ],
   "source": [
    "# nasobeni matic\n",
    "\n",
    "a = np.array([\n",
    "    [1,2],\n",
    "    [3,4],\n",
    "    [5,6]\n",
    "])\n",
    "\n",
    "b = np.array([\n",
    "    [1,2,3],\n",
    "    [4,5,6]\n",
    "])\n",
    "\n",
    "b_t = b.T\n",
    "\n",
    "matice = np.zeros((3,3))\n",
    "\n",
    "prvky = []\n",
    "\n",
    "for i in a:\n",
    "    for j in b_t:\n",
    "        prvky.append(sum(i * j))\n",
    "\n",
    "print(prvky[0:3])\n",
    "print(prvky[3:6])\n",
    "print(prvky[6:10])"
   ]
  },
  {
   "cell_type": "code",
   "execution_count": 56,
   "metadata": {},
   "outputs": [
    {
     "name": "stdout",
     "output_type": "stream",
     "text": [
      "[[ 9 12 15]\n",
      " [19 26 33]\n",
      " [29 40 51]]\n"
     ]
    }
   ],
   "source": [
    "a = np.array([\n",
    "    [1,2],\n",
    "    [3,4],\n",
    "    [5,6]\n",
    "])\n",
    "\n",
    "b = np.array([\n",
    "    [1,2,3],\n",
    "    [4,5,6]\n",
    "])\n",
    "\n",
    "print(np.matmul(a, b))"
   ]
  },
  {
   "cell_type": "code",
   "execution_count": 81,
   "metadata": {},
   "outputs": [
    {
     "name": "stdout",
     "output_type": "stream",
     "text": [
      "[[ 5  1 11]\n",
      " [ 2  3  1]\n",
      " [ 1  1  3]]\n",
      "[[ 5  1 11]\n",
      " [ 5  1 11]\n",
      " [ 1  1  3]]\n",
      "[[ 5  1 11]\n",
      " [ 5  1 11]\n",
      " [ 5  1 11]]\n"
     ]
    }
   ],
   "source": [
    "A = np.array([\n",
    "    [3,2,1],\n",
    "    [2,3,1],\n",
    "    [2,1,3]\n",
    "])\n",
    "A_t = A.T\n",
    "\n",
    "b = np.array([5,1,11])\n",
    "\n",
    "det_A = np.linalg.det(A)\n",
    "\n",
    "for i in range(3):\n",
    "    seznam = \n",
    "    "
   ]
  }
 ],
 "metadata": {
  "kernelspec": {
   "display_name": "venv",
   "language": "python",
   "name": "python3"
  },
  "language_info": {
   "codemirror_mode": {
    "name": "ipython",
    "version": 3
   },
   "file_extension": ".py",
   "mimetype": "text/x-python",
   "name": "python",
   "nbconvert_exporter": "python",
   "pygments_lexer": "ipython3",
   "version": "3.10.6"
  },
  "orig_nbformat": 4
 },
 "nbformat": 4,
 "nbformat_minor": 2
}
