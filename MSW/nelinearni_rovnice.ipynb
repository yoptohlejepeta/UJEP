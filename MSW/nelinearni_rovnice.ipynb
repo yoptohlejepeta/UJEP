{
 "cells": [
  {
   "cell_type": "code",
   "execution_count": 100,
   "metadata": {},
   "outputs": [
    {
     "ename": "SyntaxError",
     "evalue": "invalid syntax (3340320077.py, line 4)",
     "output_type": "error",
     "traceback": [
      "\u001b[0;36m  Cell \u001b[0;32mIn[100], line 4\u001b[0;36m\u001b[0m\n\u001b[0;31m    impoty scipy\u001b[0m\n\u001b[0m           ^\u001b[0m\n\u001b[0;31mSyntaxError\u001b[0m\u001b[0;31m:\u001b[0m invalid syntax\n"
     ]
    }
   ],
   "source": [
    "import numpy as np\n",
    "import random\n",
    "import matplotlib.pyplot as plt\n",
    "impoty scipy"
   ]
  },
  {
   "attachments": {},
   "cell_type": "markdown",
   "metadata": {},
   "source": [
    "## Bisekce"
   ]
  },
  {
   "cell_type": "code",
   "execution_count": null,
   "metadata": {},
   "outputs": [],
   "source": [
    "a = 0.1\n",
    "b = 4\n",
    "x = np.linspace(a, b)\n",
    "y = x + np.log(x)\n",
    "\n",
    "def f(x):\n",
    "    return x + np.log(x)\n",
    "\n",
    "while np.absolute(a - b) > 0.000001:\n",
    "    c = (a+b)/2\n",
    "    if f(a) * f(c) < 0:\n",
    "        b = c\n",
    "    else:\n",
    "        a = c\n",
    "print(c, f(c))"
   ]
  },
  {
   "cell_type": "code",
   "execution_count": null,
   "metadata": {},
   "outputs": [],
   "source": [
    "plt.plot(x,y)\n",
    "plt.scatter(c, f(c))"
   ]
  },
  {
   "cell_type": "code",
   "execution_count": null,
   "metadata": {},
   "outputs": [],
   "source": [
    "a = 0.1\n",
    "b = 4\n",
    "x = np.linspace(a, b)\n",
    "y = np.sin(x) - 1/2*(x)\n",
    "\n",
    "def f(x):\n",
    "    return np.sin(x) - 1/2*(x)\n",
    "# c = (a+b)/2\n",
    "while np.absolute(a - b) > 0.000001:\n",
    "    c = (a+b)/2\n",
    "    if f(a) * f(c) < 0:\n",
    "        b = c\n",
    "    else:\n",
    "        a = c\n",
    "print(c, f(c))\n",
    "plt.plot(x,y)\n",
    "plt.scatter(c, f(c))"
   ]
  },
  {
   "cell_type": "code",
   "execution_count": null,
   "metadata": {},
   "outputs": [],
   "source": [
    "a = 0.1\n",
    "b = 4\n",
    "x = np.linspace(a, b)\n",
    "y = np.exp(x) + x**2 - 3\n",
    "\n",
    "def f(x):\n",
    "    return np.exp(x) + x**2 - 3\n",
    "\n",
    "while np.absolute(a - b) > 0.000001:\n",
    "    c = (a+b)/2\n",
    "    if f(a) * f(c) < 0:\n",
    "        b = c\n",
    "    else:\n",
    "        a = c\n",
    "print(c, f(c))\n",
    "plt.plot(x,y)\n",
    "plt.scatter(c, f(c))"
   ]
  },
  {
   "attachments": {},
   "cell_type": "markdown",
   "metadata": {},
   "source": [
    "## Metoda sečen (regula falsi)"
   ]
  },
  {
   "cell_type": "code",
   "execution_count": null,
   "metadata": {},
   "outputs": [],
   "source": [
    "a = 0.1\n",
    "b = 4\n",
    "x = np.linspace(a, b)\n",
    "y = x + np.log(x)\n",
    "\n",
    "def f(x):\n",
    "    return x + np.log(x)\n",
    "\n",
    "# x = np.array([(f(b) - f(a)/(b - a)) , (a - f(a))])\n",
    "\n",
    "while np.absolute(a - b) > 0.000001:\n",
    "    x = np.array([ f(b) - f(a)/(b - a) , (f(a))])\n",
    "    c = np.linalg.solve(x, 0)\n",
    "    if f(a) * f(c) < 0:\n",
    "        b = c\n",
    "    else:\n",
    "        a = c\n",
    "\n",
    "print(c, f(c))"
   ]
  },
  {
   "attachments": {},
   "cell_type": "markdown",
   "metadata": {},
   "source": [
    "## Metoda tečen"
   ]
  }
 ],
 "metadata": {
  "kernelspec": {
   "display_name": "venv",
   "language": "python",
   "name": "python3"
  },
  "language_info": {
   "codemirror_mode": {
    "name": "ipython",
    "version": 3
   },
   "file_extension": ".py",
   "mimetype": "text/x-python",
   "name": "python",
   "nbconvert_exporter": "python",
   "pygments_lexer": "ipython3",
   "version": "3.10.6"
  },
  "orig_nbformat": 4
 },
 "nbformat": 4,
 "nbformat_minor": 2
}
