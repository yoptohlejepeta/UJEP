{
 "cells": [
  {
   "cell_type": "code",
   "execution_count": 44,
   "metadata": {},
   "outputs": [
    {
     "name": "stdout",
     "output_type": "stream",
     "text": [
      "0.3333332499999999\n"
     ]
    }
   ],
   "source": [
    "def f(x):\n",
    "    return x**2\n",
    "\n",
    "\n",
    "def integral_obdelnik(a, b, n):\n",
    "    h = (b - a) / n\n",
    "    sum = 0\n",
    "    for i in range(n):\n",
    "        obdelnik = (f(a + i * h + (h / 2))) * h\n",
    "        sum += obdelnik\n",
    "    return sum\n",
    "\n",
    "\n",
    "kvad_sum = integral_obdelnik(0, 1, 1000)\n",
    "\n",
    "print(kvad_sum)"
   ]
  },
  {
   "cell_type": "code",
   "execution_count": 51,
   "metadata": {},
   "outputs": [
    {
     "name": "stdout",
     "output_type": "stream",
     "text": [
      "0.33333349999999984\n"
     ]
    }
   ],
   "source": [
    "def f(x):\n",
    "    return x**2\n",
    "\n",
    "\n",
    "def integral_licho(a, b, n):\n",
    "    h = (b - a) / n\n",
    "    sum = 0\n",
    "    for i in range(n):\n",
    "        licho = ((f(a + i * h) + f(a + i * h + h)) / 2) * h\n",
    "        sum += licho\n",
    "    return sum\n",
    "\n",
    "\n",
    "kvad_sum = integral_licho(0, 1, 1000)\n",
    "\n",
    "print(kvad_sum)"
   ]
  },
  {
   "cell_type": "code",
   "execution_count": 54,
   "metadata": {},
   "outputs": [],
   "source": [
    "# h/2 * (f(a_0) + 2 * f(a_1) + ... + 2 * f(a_n-1) + f(a_n))"
   ]
  }
 ],
 "metadata": {
  "kernelspec": {
   "display_name": "venv",
   "language": "python",
   "name": "python3"
  },
  "language_info": {
   "codemirror_mode": {
    "name": "ipython",
    "version": 3
   },
   "file_extension": ".py",
   "mimetype": "text/x-python",
   "name": "python",
   "nbconvert_exporter": "python",
   "pygments_lexer": "ipython3",
   "version": "3.10.4"
  },
  "orig_nbformat": 4
 },
 "nbformat": 4,
 "nbformat_minor": 2
}
