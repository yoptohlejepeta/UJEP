{
 "cells": [
  {
   "cell_type": "code",
   "execution_count": 1,
   "metadata": {},
   "outputs": [],
   "source": [
    "import numpy as np\n",
    "import random"
   ]
  },
  {
   "cell_type": "code",
   "execution_count": 81,
   "metadata": {},
   "outputs": [],
   "source": [
    "# alfa\n",
    "# gamma \n",
    "# funkce kterou maximalizuji\n",
    "\n",
    "predmety = {\n",
    "    1 : [40, 10000],\n",
    "    2 : [20, 8000]\n",
    "}\n",
    "\n",
    "ukradl = \"01\"\n",
    "\n",
    "def blind_algorithm(tmax, k, n):\n",
    "    f_fin = np.Inf\n",
    "    print(f_fin)\n",
    "    t = 0\n",
    "    for i in range(tmax):\n",
    "    # while t < tmax:\n",
    "        # t += 1\n",
    "        # alpha = nahodna sekvence 0,1 o delce n\n",
    "        alpha = [random.choice([0,1]) for i in range(k*n)]\n",
    "        if f(gamma(alpha)) < f_fin:\n",
    "            alpha_fin = alpha\n",
    "            f_fin = f(gamma(alpha))\n",
    "    return alpha_fin, f_fin\n",
    "    \n",
    "    \n",
    "def gamma(alpha):\n",
    "    x = []\n",
    "    for i in alpha:\n",
    "        if i == '1':\n",
    "            x.append(predmety[int(alpha[int(i)])])\n",
    "            return x\n",
    "    \n",
    "def f(x):\n",
    "    print(x)\n",
    "    hmotnost = 0\n",
    "    cena = 0\n",
    "    for i in x:\n",
    "        hmotnost += i[0]\n",
    "        cena += i[1]\n",
    "    if hmotnost > 30:\n",
    "        print(hmotnost)\n",
    "        return 0\n",
    "    return cena, hmotnost"
   ]
  },
  {
   "cell_type": "code",
   "execution_count": 82,
   "metadata": {},
   "outputs": [
    {
     "name": "stdout",
     "output_type": "stream",
     "text": [
      "[[40, 10000]]\n",
      "40\n",
      "0\n"
     ]
    }
   ],
   "source": [
    "print(f(gamma(ukradl)))\n",
    "# for i in ukradl:\n",
    "#     print(i == '1')"
   ]
  },
  {
   "cell_type": "code",
   "execution_count": null,
   "metadata": {},
   "outputs": [],
   "source": [
    "print(ukradl[])"
   ]
  }
 ],
 "metadata": {
  "kernelspec": {
   "display_name": "venv",
   "language": "python",
   "name": "python3"
  },
  "language_info": {
   "codemirror_mode": {
    "name": "ipython",
    "version": 3
   },
   "file_extension": ".py",
   "mimetype": "text/x-python",
   "name": "python",
   "nbconvert_exporter": "python",
   "pygments_lexer": "ipython3",
   "version": "3.10.4"
  },
  "orig_nbformat": 4
 },
 "nbformat": 4,
 "nbformat_minor": 2
}
