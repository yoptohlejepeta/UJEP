{
 "cells": [
  {
   "cell_type": "code",
   "execution_count": 15,
   "metadata": {},
   "outputs": [
    {
     "name": "stdout",
     "output_type": "stream",
     "text": [
      "4\n"
     ]
    }
   ],
   "source": [
    "from random import randint\n",
    "x = 'x'\n",
    "o = 'o'\n",
    "\n",
    "field = [['P', x, o, o],\n",
    "         [o, x, o, o],\n",
    "         [o, x, o, o],\n",
    "         [o, x, x, x]]\n",
    "\n",
    "print(len(field[0]))"
   ]
  },
  {
   "cell_type": "code",
   "execution_count": 26,
   "metadata": {},
   "outputs": [
    {
     "name": "stdout",
     "output_type": "stream",
     "text": [
      "1\n"
     ]
    }
   ],
   "source": [
    "pohyby = {}\n",
    "\n",
    "try:\n",
    "    pohyb = pohyby.get(xy1)\n",
    "except:\n",
    "    pohyb = randint(0,1)\n",
    "print(pohyb)"
   ]
  },
  {
   "cell_type": "code",
   "execution_count": 13,
   "metadata": {},
   "outputs": [
    {
     "data": {
      "text/plain": [
       "8"
      ]
     },
     "execution_count": 13,
     "metadata": {},
     "output_type": "execute_result"
    }
   ],
   "source": [
    "alpha = (randint(0,1) for i in range(3))\n",
    "x = sum(alpha)\n",
    "def f(x):\n",
    "    fx = 2*x**2\n",
    "    return fx\n",
    "f(x)"
   ]
  }
 ],
 "metadata": {
  "kernelspec": {
   "display_name": "venv",
   "language": "python",
   "name": "python3"
  },
  "language_info": {
   "codemirror_mode": {
    "name": "ipython",
    "version": 3
   },
   "file_extension": ".py",
   "mimetype": "text/x-python",
   "name": "python",
   "nbconvert_exporter": "python",
   "pygments_lexer": "ipython3",
   "version": "3.10.4"
  },
  "orig_nbformat": 4,
  "vscode": {
   "interpreter": {
    "hash": "d668a048e9241f971757664ef48be16e15a85f75a6f2f2102f45a2adbc432552"
   }
  }
 },
 "nbformat": 4,
 "nbformat_minor": 2
}
