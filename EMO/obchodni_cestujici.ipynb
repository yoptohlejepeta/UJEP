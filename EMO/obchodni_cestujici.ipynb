{
 "cells": [
  {
   "cell_type": "code",
   "execution_count": 12,
   "metadata": {},
   "outputs": [],
   "source": [
    "import numpy as np\n",
    "import networkx as nx\n",
    "import matplotlib.pyplot as plt\n",
    "from numpy.random import choice\n",
    "\n",
    "\n",
    "\n",
    "mesta = ['Chabarovice', 'Usti nad Labem', 'Praha', 'Brno', 'Karlovy Vary']\n",
    "\n",
    "matice = np.matrix(\n",
    "    [\n",
    "        [0, 10, 92, 296, 111],\n",
    "        [10, 0, 91, 295, 119],\n",
    "        [92, 91, 0, 205, 129],\n",
    "        [296, 295, 205, 0, 336],\n",
    "        [111, 119, 129, 336, 0],\n",
    "    ]\n",
    ")"
   ]
  },
  {
   "cell_type": "code",
   "execution_count": null,
   "metadata": {},
   "outputs": [],
   "source": [
    "G = nx.DiGraph(matice_sousednosti)\n",
    "nx.draw(G)\n",
    "plt.show()"
   ]
  },
  {
   "cell_type": "code",
   "execution_count": 25,
   "metadata": {},
   "outputs": [],
   "source": [
    "def gen_jedinec(matice):\n",
    "    mesta = [i for i in range(len(matice))]\n",
    "    cesta = choice(len(matice), size=len(matice), replace=False)\n",
    "    return cesta\n",
    "\n",
    "jedinci = []\n",
    "for i in range(len(matice)):\n",
    "    jedinci.append(gen_jedinec(matice))\n"
   ]
  },
  {
   "cell_type": "code",
   "execution_count": 26,
   "metadata": {},
   "outputs": [
    {
     "data": {
      "text/plain": [
       "[array([0, 2, 3, 4, 1]),\n",
       " array([4, 0, 3, 2, 1]),\n",
       " array([2, 3, 1, 4, 0]),\n",
       " array([3, 1, 4, 2, 0]),\n",
       " array([3, 4, 2, 0, 1])]"
      ]
     },
     "execution_count": 26,
     "metadata": {},
     "output_type": "execute_result"
    }
   ],
   "source": [
    "def ohodnoceni(jedinci, matice):\n",
    "    for i in jedinci:"
   ]
  }
 ],
 "metadata": {
  "kernelspec": {
   "display_name": "venv",
   "language": "python",
   "name": "python3"
  },
  "language_info": {
   "codemirror_mode": {
    "name": "ipython",
    "version": 3
   },
   "file_extension": ".py",
   "mimetype": "text/x-python",
   "name": "python",
   "nbconvert_exporter": "python",
   "pygments_lexer": "ipython3",
   "version": "3.10.6"
  },
  "orig_nbformat": 4
 },
 "nbformat": 4,
 "nbformat_minor": 2
}
