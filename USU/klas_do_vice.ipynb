{
 "cells": [
  {
   "cell_type": "code",
   "execution_count": null,
   "metadata": {},
   "outputs": [],
   "source": [
    "import tensorflow as tf\n",
    "import matplotlib.pyplot as plt\n",
    "import numpy as np\n",
    "from sklearn.linear_model import LogisticRegression\n",
    "from sklearn.metrics import confusion_matrix, ConfusionMatrixDisplay, classification_report\n",
    "from sklearn.neighbors import KNeighborsClassifier\n",
    "from sklearn.ensemble import RandomForestClassifier"
   ]
  },
  {
   "cell_type": "code",
   "execution_count": null,
   "metadata": {},
   "outputs": [],
   "source": [
    "train_data, test_data = tf.keras.datasets.mnist.load_data()\n",
    "X_tr,y_tr = train_data\n",
    "X_test,y_test = test_data\n",
    "print(f'{X_tr.shape}')\n",
    "print(f'{y_tr.shape}')\n",
    "print(f'{X_test.shape}')\n",
    "print(f'{y_test.shape}')\n",
    "fig, axs = plt.subplots(1, 9, figsize=(15, 3))\n",
    "for index, ax in enumerate(axs):\n",
    "  ax.imshow(X_tr[index],cmap='gray')\n",
    "plt.show()"
   ]
  },
  {
   "cell_type": "code",
   "execution_count": null,
   "metadata": {},
   "outputs": [],
   "source": [
    "CATEGORIES = 10\n",
    "# Normalizace <0,255> -> <0,1>\n",
    "X_tr = X_tr/255.0\n",
    "X_test = X_test/255.0\n",
    "# Prevod matic 28*28 na vektory\n",
    "X_tr_vec = X_tr.reshape(-1,28*28)\n",
    "X_test_vec = X_test.reshape(-1,28*28)\n",
    "print(X_tr_vec.shape)\n",
    "print(X_test_vec.shape)"
   ]
  },
  {
   "cell_type": "code",
   "execution_count": null,
   "metadata": {},
   "outputs": [],
   "source": [
    "print(X_tr_vec[0])"
   ]
  },
  {
   "cell_type": "code",
   "execution_count": null,
   "metadata": {},
   "outputs": [],
   "source": [
    "# log_regrese_model = LogisticRegression(C=1, penalty=\"l2\", solver=\"saga\")\n",
    "log_regrese_model = LogisticRegression(C=1, penalty=\"l2\", solver=\"liblinear\")\n",
    "log_regrese_model.fit(X_tr_vec, y_tr)"
   ]
  },
  {
   "cell_type": "code",
   "execution_count": null,
   "metadata": {},
   "outputs": [],
   "source": [
    "y_hat = log_regrese_model.predict(X_test_vec)\n",
    "\n",
    "cm_log = confusion_matrix(y_test, y_hat)\n",
    "\n",
    "disp = ConfusionMatrixDisplay(confusion_matrix=cm_log, display_labels= [i for i in range(10)])\n",
    "disp.plot()\n",
    "\n",
    "print(log_regrese_model.score(X_test_vec, y_test))\n",
    "print(classification_report(y_test, y_hat))"
   ]
  },
  {
   "cell_type": "code",
   "execution_count": null,
   "metadata": {},
   "outputs": [],
   "source": [
    "knn_model = KNeighborsClassifier(n_neighbors=3)\n",
    "knn_model.fit(X_tr_vec, y_tr)"
   ]
  },
  {
   "cell_type": "code",
   "execution_count": null,
   "metadata": {},
   "outputs": [],
   "source": [
    "y_hat = knn_model.predict(X_test_vec)\n",
    "\n",
    "cm_knn = confusion_matrix(y_test, y_hat)\n",
    "\n",
    "disp = ConfusionMatrixDisplay(confusion_matrix=cm_knn, display_labels= [i for i in range(10)])\n",
    "disp.plot()\n",
    "\n",
    "print(knn_model.score(X_test_vec, y_test))\n",
    "print(classification_report(y_test, y_hat))"
   ]
  },
  {
   "cell_type": "code",
   "execution_count": null,
   "metadata": {},
   "outputs": [],
   "source": [
    "forest_model = RandomForestClassifier(max_depth=None, n_estimators=300, random_state=0)\n",
    "forest_model.fit(X_tr_vec, y_tr)"
   ]
  },
  {
   "cell_type": "code",
   "execution_count": null,
   "metadata": {},
   "outputs": [],
   "source": [
    "y_hat = forest_model.predict(X_test_vec)\n",
    "\n",
    "cm_forest = confusion_matrix(y_test, y_hat)\n",
    "\n",
    "disp = ConfusionMatrixDisplay(confusion_matrix=cm_forest, display_labels= [i for i in range(10)])\n",
    "disp.plot()\n",
    "\n",
    "print(forest_model.score(X_test_vec, y_test))\n",
    "print(classification_report(y_test, y_hat))"
   ]
  }
 ],
 "metadata": {
  "kernelspec": {
   "display_name": "venv",
   "language": "python",
   "name": "python3"
  },
  "language_info": {
   "codemirror_mode": {
    "name": "ipython",
    "version": 3
   },
   "file_extension": ".py",
   "mimetype": "text/x-python",
   "name": "python",
   "nbconvert_exporter": "python",
   "pygments_lexer": "ipython3",
   "version": "3.10.6"
  },
  "orig_nbformat": 4
 },
 "nbformat": 4,
 "nbformat_minor": 2
}
