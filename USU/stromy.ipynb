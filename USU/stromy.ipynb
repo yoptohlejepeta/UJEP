{
 "cells": [
  {
   "cell_type": "code",
   "execution_count": null,
   "metadata": {},
   "outputs": [],
   "source": [
    "import matplotlib.pyplot as plt\n",
    "import numpy as np\n",
    "\n",
    "from sklearn import datasets, metrics, tree\n",
    "from sklearn.model_selection import train_test_split\n",
    "# nacteni datasetu\n",
    "digits = datasets.load_digits()\n",
    "\n",
    "# prevzato z sklearn - vizualizace cislic\n",
    "fig, axes = plt.subplots(nrows=1, ncols=10, figsize=(15, 4))\n",
    "for ax, image, label in zip(axes, digits.images, digits.target):\n",
    "    ax.set_axis_off()\n",
    "    ax.imshow(image, cmap=plt.cm.gray_r, interpolation=\"nearest\")\n",
    "    ax.set_title(\"Training: %i\" % label)\n",
    "# priprava datasetu - prevod obrazku 8*8 na vektory\n",
    "samples_count = len(digits.images)\n",
    "data = digits.images.reshape((samples_count, -1))\n",
    "# data =(data-np.mean(data))/data.std() # stromy nejsou citlivy na standardizaci\n",
    "# rozdeleni na jednotlive mnoziny, z duvodu reprodukovatelnosti predepiseme nahodny stav - random_state a pri kazdem spusteni to bude stejne\n",
    "X_tr, X_test, y_tr, y_test = train_test_split(data, digits.target, test_size=0.2, shuffle=True, random_state=42)\n",
    "# zde je nutno doplnit případnou standardizaci, či normalizaci\n",
    "# .... viz samostaná práce"
   ]
  },
  {
   "cell_type": "code",
   "execution_count": null,
   "metadata": {},
   "outputs": [],
   "source": []
  },
  {
   "cell_type": "code",
   "execution_count": null,
   "metadata": {},
   "outputs": [],
   "source": [
    "# nauceni stromu a provedeni klasifikace na trenovacich datech\n",
    "clf1 = tree.DecisionTreeClassifier(max_depth=10, criterion=\"entropy\", random_state=42)\n",
    "clf1 = clf1.fit(X_tr, y_tr)\n",
    "predicted = clf1.predict(X_tr)\n",
    "print(f\"Report klasifikace na trenovacich datech {clf1}:\\n{metrics.classification_report(y_tr, predicted)}\")"
   ]
  },
  {
   "cell_type": "code",
   "execution_count": null,
   "metadata": {},
   "outputs": [],
   "source": [
    "predicted = clf1.predict(X_test)\n",
    "print(f\"Report klasifikace na testovacich datech {clf1}:\\n{metrics.classification_report(y_test, predicted)}\")"
   ]
  },
  {
   "cell_type": "code",
   "execution_count": null,
   "metadata": {},
   "outputs": [],
   "source": [
    "# nauceni stromu a provedeni klasifikace na trenovacich datech\n",
    "clf2 = tree.DecisionTreeClassifier(max_depth=10, criterion=\"log_loss\")\n",
    "clf2 = clf2.fit(X_tr, y_tr)\n",
    "predicted = clf2.predict(X_tr)\n",
    "print(f\"Report klasifikace na trenovacich datech {clf2}:\\n{metrics.classification_report(y_tr, predicted)}\")"
   ]
  },
  {
   "cell_type": "code",
   "execution_count": null,
   "metadata": {},
   "outputs": [],
   "source": [
    "predicted = clf2.predict(X_test)\n",
    "print(f\"Report klasifikace na testovacich datech {clf2}:\\n{metrics.classification_report(y_test, predicted)}\")"
   ]
  },
  {
   "cell_type": "code",
   "execution_count": null,
   "metadata": {},
   "outputs": [],
   "source": [
    "import pandas as pd\n",
    "import numpy as np\n",
    "from sklearn.preprocessing import MinMaxScaler\n",
    "\n",
    "\n",
    "data_url = \"http://lib.stat.cmu.edu/datasets/boston\"\n",
    "raw_df = pd.read_csv(data_url, sep=\"\\s+\", skiprows=22, header=None)\n",
    "data = np.hstack([raw_df.values[::2, :], raw_df.values[1::2, :2]])\n",
    "data = MinMaxScaler().fit_transform(data)\n",
    "target = raw_df.values[1::2, 2]\n",
    "\n",
    "\n",
    "X_tr, X_test, y_tr, y_test = train_test_split(data, target.astype(\"int\"), test_size=0.2, shuffle=True, random_state=42)\n",
    "\n"
   ]
  },
  {
   "cell_type": "code",
   "execution_count": null,
   "metadata": {},
   "outputs": [],
   "source": [
    "# nauceni stromu a provedeni klasifikace na trenovacich datech\n",
    "clf = tree.DecisionTreeRegressor(criterion=\"squared_error\", random_state=42)\n",
    "clf = clf.fit(X_tr, y_tr)\n",
    "predicted = clf.predict(X_tr)\n",
    "print(f\"Report klasifikace na trenovacich datech {clf}:\\n{metrics.classification_report(y_tr, predicted)}\")"
   ]
  },
  {
   "cell_type": "code",
   "execution_count": null,
   "metadata": {},
   "outputs": [],
   "source": [
    "from sklearn.metrics import mean_squared_error\n",
    "\n",
    "predicted = clf.predict(X_test)\n",
    "print(f\"Report klasifikace na testovacich datech {clf}:\\n{metrics.classification_report(y_test, predicted)}\")\n",
    "mean_squared_error(y_test, predicted, squared=False)"
   ]
  },
  {
   "cell_type": "code",
   "execution_count": null,
   "metadata": {},
   "outputs": [],
   "source": [
    "from sklearn.ensemble import RandomForestClassifier\n",
    "\n",
    "forest = RandomForestClassifier(criterion=\"entropy\", )\n",
    "forest = forest.fit(X_tr, y_tr)\n",
    "# predikce a jeji zhodnoceni\n",
    "predicted = forest.predict(X_test)\n",
    "print(f\"Report klasifikace na testovacich datech {forest}:\\n{metrics.classification_report(y_test, predicted)}\")\n",
    "mean_squared_error(y_test, predicted, squared=False)"
   ]
  }
 ],
 "metadata": {
  "kernelspec": {
   "display_name": "venv",
   "language": "python",
   "name": "python3"
  },
  "language_info": {
   "codemirror_mode": {
    "name": "ipython",
    "version": 3
   },
   "file_extension": ".py",
   "mimetype": "text/x-python",
   "name": "python",
   "nbconvert_exporter": "python",
   "pygments_lexer": "ipython3",
   "version": "3.10.6"
  },
  "orig_nbformat": 4
 },
 "nbformat": 4,
 "nbformat_minor": 2
}
