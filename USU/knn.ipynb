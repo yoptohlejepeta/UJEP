{
 "cells": [
  {
   "cell_type": "code",
   "execution_count": null,
   "metadata": {},
   "outputs": [],
   "source": [
    "import numpy as np\n",
    "import math"
   ]
  },
  {
   "cell_type": "code",
   "execution_count": null,
   "metadata": {},
   "outputs": [],
   "source": [
    "vals = np.array([[8, 4], [4, 2], [3, 9], [8, 8], [0, 8]])\n",
    "labels = np.array([0, 1, 0, 0, 0, 1])\n",
    "\n",
    "\n",
    "def scaling(vals):\n",
    "    min = np.min(vals, axis=0)\n",
    "    max = np.max(vals, axis=0)\n",
    "    x_sc = (vals - min) / (max - min)\n",
    "    return x_sc\n",
    "\n",
    "\n",
    "xsc = scaling(vals)\n",
    "x = np.array([3, 3])\n",
    "x_sc = (x - min) / (max - min)\n",
    "\n",
    "\n",
    "def knn(X, y, x, k=3):\n",
    "    rho = np.sum((x - X) ** 2, axis=1)\n",
    "    print(rho)\n",
    "    result = []\n",
    "    body = []\n",
    "    for i in range(k):\n",
    "        nejmen = np.argmin(rho)\n",
    "        result.append(y[nejmen])\n",
    "        print(vals[nejmen])\n",
    "        rho[nejmen] = np.infty\n",
    "    return result\n",
    "\n",
    "\n",
    "knn(xsc, labels, x_sc, 3)\n",
    "\n",
    "rho = np.sum((x - xsc) ** 2, axis=1)\n",
    "result = []\n",
    "body = []\n",
    "for i in range(3):\n",
    "    nejmen = np.argmin(rho)\n",
    "    result.append(labels[nejmen])\n",
    "    print(labels[nejmen])\n",
    "    rho[nejmen] = np.infty\n",
    "print(result)"
   ]
  },
  {
   "cell_type": "code",
   "execution_count": null,
   "metadata": {},
   "outputs": [],
   "source": [
    "# vzdalenost bodu\n",
    "# math.dist(np.array(np.random.choice(5,2)), np.array(np.random.choice(5,2)))\n",
    "\n",
    "vals = np.array([[8, 4], [4, 2], [3, 9], [8, 8], [0, 8]])\n",
    "labels = np.array([0, 1, 0, 0, 0, 1])\n",
    "\n",
    "print(vals)"
   ]
  },
  {
   "cell_type": "code",
   "execution_count": null,
   "metadata": {},
   "outputs": [],
   "source": [
    "# škálování\n",
    "\n",
    "\n",
    "def scaling(vals):\n",
    "    min = np.min(vals, axis=0)\n",
    "    max = np.max(vals, axis=0)\n",
    "    x_sc = (vals - min) / (max - min)\n",
    "    return x_sc\n",
    "\n",
    "\n",
    "xsc = scaling(vals)\n",
    "print(xsc)\n",
    "print(min)"
   ]
  },
  {
   "cell_type": "code",
   "execution_count": null,
   "metadata": {},
   "outputs": [],
   "source": [
    "# knn\n",
    "# X - matice\n",
    "# y - labely\n",
    "# x - testovaci bod\n",
    "x = np.array([3, 3])\n",
    "x_sc = (x - min) / (max - min)\n",
    "\n",
    "\n",
    "def knn(X, y, x, k=3):\n",
    "    rho = np.sum((x - X) ** 2, axis=1)\n",
    "    print(rho)\n",
    "    result = []\n",
    "    body = []\n",
    "    for i in range(k):\n",
    "        nejmen = np.argmin(rho)\n",
    "        result.append(y[nejmen])\n",
    "        print(vals[nejmen])\n",
    "        rho[nejmen] = np.infty\n",
    "    return result\n",
    "\n",
    "\n",
    "knn(xsc, labels, x_sc, 3)"
   ]
  },
  {
   "cell_type": "code",
   "execution_count": null,
   "metadata": {},
   "outputs": [],
   "source": [
    "rho = np.sum((x - xsc) ** 2, axis=1)\n",
    "result = []\n",
    "body = []\n",
    "for i in range(3):\n",
    "    nejmen = np.argmin(rho)\n",
    "    result.append(labels[nejmen])\n",
    "    print(labels[nejmen])\n",
    "    rho[nejmen] = np.infty\n",
    "print(result)"
   ]
  }
 ],
 "metadata": {
  "kernelspec": {
   "display_name": "Python 3",
   "language": "python",
   "name": "python3"
  },
  "language_info": {
   "codemirror_mode": {
    "name": "ipython",
    "version": 3
   },
   "file_extension": ".py",
   "mimetype": "text/x-python",
   "name": "python",
   "nbconvert_exporter": "python",
   "pygments_lexer": "ipython3",
   "version": "3.10.6"
  },
  "orig_nbformat": 4,
  "vscode": {
   "interpreter": {
    "hash": "ac7d63c81fa3af9841e18714dc5bca4e996301e345a55d3b2736ded50a265047"
   }
  }
 },
 "nbformat": 4,
 "nbformat_minor": 2
}
